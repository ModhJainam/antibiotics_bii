{
 "cells": [
  {
   "cell_type": "code",
   "execution_count": 25,
   "metadata": {},
   "outputs": [],
   "source": [
    "import pandas as pd\n",
    "import numpy as np\n",
    "import json\n",
    "import os\n",
    "from datetime import datetime"
   ]
  },
  {
   "cell_type": "code",
   "execution_count": 9,
   "metadata": {},
   "outputs": [
    {
     "data": {
      "text/plain": [
       "60"
      ]
     },
     "execution_count": 9,
     "metadata": {},
     "output_type": "execute_result"
    }
   ],
   "source": [
    "indir = \"/scratch/jhm3ab/antibiotic_bii/prescriptions_data\"\n",
    "infiles = []\n",
    "for yeardir in os.listdir(indir):\n",
    "    d = os.path.join(indir, yeardir)\n",
    "    for filename in os.listdir(d):\n",
    "        fin = os.path.join(d, filename)\n",
    "        infiles.append(fin)\n",
    "len(infiles)"
   ]
  },
  {
   "cell_type": "code",
   "execution_count": 10,
   "metadata": {},
   "outputs": [],
   "source": [
    "f = open(infiles[0])\n",
    "data = json.load(f)"
   ]
  },
  {
   "cell_type": "code",
   "execution_count": 37,
   "metadata": {},
   "outputs": [
    {
     "data": {
      "text/html": [
       "<div>\n",
       "<style scoped>\n",
       "    .dataframe tbody tr th:only-of-type {\n",
       "        vertical-align: middle;\n",
       "    }\n",
       "\n",
       "    .dataframe tbody tr th {\n",
       "        vertical-align: top;\n",
       "    }\n",
       "\n",
       "    .dataframe thead th {\n",
       "        text-align: right;\n",
       "    }\n",
       "</style>\n",
       "<table border=\"1\" class=\"dataframe\">\n",
       "  <thead>\n",
       "    <tr style=\"text-align: right;\">\n",
       "      <th></th>\n",
       "      <th>Month</th>\n",
       "      <th>NDC</th>\n",
       "      <th>GPI</th>\n",
       "      <th>Drug Name</th>\n",
       "      <th>Strength</th>\n",
       "      <th>Member Zip Code DOS</th>\n",
       "      <th>Member County DOS</th>\n",
       "      <th>Service Provider ZIP</th>\n",
       "      <th>Service Provider County</th>\n",
       "    </tr>\n",
       "  </thead>\n",
       "  <tbody>\n",
       "    <tr>\n",
       "      <th>0</th>\n",
       "      <td>201609</td>\n",
       "      <td>00000000021</td>\n",
       "      <td>None</td>\n",
       "      <td>None</td>\n",
       "      <td>None</td>\n",
       "      <td>23321</td>\n",
       "      <td>550 - CHESAPEAKE CITY</td>\n",
       "      <td>23510</td>\n",
       "      <td>NORFOLK CITY</td>\n",
       "    </tr>\n",
       "  </tbody>\n",
       "</table>\n",
       "</div>"
      ],
      "text/plain": [
       "    Month          NDC   GPI Drug Name Strength Member Zip Code DOS  \\\n",
       "0  201609  00000000021  None      None     None               23321   \n",
       "\n",
       "       Member County DOS Service Provider ZIP Service Provider County  \n",
       "0  550 - CHESAPEAKE CITY                23510            NORFOLK CITY  "
      ]
     },
     "execution_count": 37,
     "metadata": {},
     "output_type": "execute_result"
    }
   ],
   "source": [
    "df = pd.DataFrame.from_dict(data['00000000021'])\n",
    "df"
   ]
  },
  {
   "cell_type": "code",
   "execution_count": null,
   "metadata": {},
   "outputs": [],
   "source": [
    "for ndc in data:\n",
    "    df = pd.DataFrame.from_dict(data[ndc])"
   ]
  }
 ],
 "metadata": {
  "kernelspec": {
   "display_name": "Antibiotics_BII",
   "language": "python",
   "name": "antibiotics_bii"
  },
  "language_info": {
   "codemirror_mode": {
    "name": "ipython",
    "version": 3
   },
   "file_extension": ".py",
   "mimetype": "text/x-python",
   "name": "python",
   "nbconvert_exporter": "python",
   "pygments_lexer": "ipython3",
   "version": "3.8.8"
  }
 },
 "nbformat": 4,
 "nbformat_minor": 4
}
