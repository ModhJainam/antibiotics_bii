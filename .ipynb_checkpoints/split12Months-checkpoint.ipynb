{
 "cells": [
  {
   "cell_type": "code",
   "execution_count": 1,
   "metadata": {},
   "outputs": [],
   "source": [
    "import pandas as pd\n",
    "import numpy as np"
   ]
  },
  {
   "cell_type": "code",
   "execution_count": 2,
   "metadata": {},
   "outputs": [
    {
     "ename": "FileNotFoundError",
     "evalue": "[Errno 2] No such file or directory: '/project/biocomplexity/MeaslesProject/APCDdata/RX/UVA_RX\\\\ Claims\\\\ 2016_March_2022.txt'",
     "output_type": "error",
     "traceback": [
      "\u001b[0;31m---------------------------------------------------------------------------\u001b[0m",
      "\u001b[0;31mFileNotFoundError\u001b[0m                         Traceback (most recent call last)",
      "\u001b[0;32m<ipython-input-2-ea236c84b57f>\u001b[0m in \u001b[0;36m<module>\u001b[0;34m\u001b[0m\n\u001b[1;32m      3\u001b[0m \u001b[0mfilename\u001b[0m \u001b[0;34m=\u001b[0m \u001b[0;34m'/project/biocomplexity/MeaslesProject/APCDdata/RX/UVA_RX\\ Claims\\ '\u001b[0m\u001b[0;34m+\u001b[0m\u001b[0mstr\u001b[0m\u001b[0;34m(\u001b[0m\u001b[0myear\u001b[0m\u001b[0;34m)\u001b[0m\u001b[0;34m+\u001b[0m\u001b[0;34m'_March_2022.txt'\u001b[0m\u001b[0;34m\u001b[0m\u001b[0;34m\u001b[0m\u001b[0m\n\u001b[1;32m      4\u001b[0m \u001b[0mi\u001b[0m\u001b[0;34m=\u001b[0m\u001b[0;36m1\u001b[0m\u001b[0;34m\u001b[0m\u001b[0;34m\u001b[0m\u001b[0m\n\u001b[0;32m----> 5\u001b[0;31m \u001b[0;32mwith\u001b[0m \u001b[0mopen\u001b[0m\u001b[0;34m(\u001b[0m\u001b[0mfilename\u001b[0m\u001b[0;34m,\u001b[0m \u001b[0;34m\"r\"\u001b[0m\u001b[0;34m,\u001b[0m \u001b[0mencoding\u001b[0m\u001b[0;34m=\u001b[0m\u001b[0;34m\"ISO-8859-1\"\u001b[0m\u001b[0;34m)\u001b[0m \u001b[0;32mas\u001b[0m \u001b[0mfin\u001b[0m\u001b[0;34m:\u001b[0m\u001b[0;34m\u001b[0m\u001b[0;34m\u001b[0m\u001b[0m\n\u001b[0m\u001b[1;32m      6\u001b[0m     \u001b[0mfout\u001b[0m \u001b[0;34m=\u001b[0m \u001b[0mopen\u001b[0m\u001b[0;34m(\u001b[0m\u001b[0;34m\"/scratch/jhm3ab/antibiotic_bii/RX_data/UVA_RX_Claims_\"\u001b[0m\u001b[0;34m+\u001b[0m\u001b[0mstr\u001b[0m\u001b[0;34m(\u001b[0m\u001b[0myear\u001b[0m\u001b[0;34m)\u001b[0m\u001b[0;34m+\u001b[0m\u001b[0;34m\"/UVA_RX_Claims_\"\u001b[0m\u001b[0;34m+\u001b[0m\u001b[0mstr\u001b[0m\u001b[0;34m(\u001b[0m\u001b[0myear\u001b[0m\u001b[0;34m)\u001b[0m\u001b[0;34m+\u001b[0m\u001b[0;34m\"_March_2022_\"\u001b[0m\u001b[0;34m+\u001b[0m\u001b[0mstr\u001b[0m\u001b[0;34m(\u001b[0m\u001b[0mi\u001b[0m\u001b[0;34m)\u001b[0m\u001b[0;34m+\u001b[0m\u001b[0;34m\".txt\"\u001b[0m\u001b[0;34m,\u001b[0m\u001b[0;34m\"w\"\u001b[0m\u001b[0;34m)\u001b[0m\u001b[0;34m\u001b[0m\u001b[0;34m\u001b[0m\u001b[0m\n\u001b[1;32m      7\u001b[0m     \u001b[0;32mfor\u001b[0m \u001b[0mj\u001b[0m\u001b[0;34m,\u001b[0m\u001b[0mline\u001b[0m \u001b[0;32min\u001b[0m \u001b[0menumerate\u001b[0m\u001b[0;34m(\u001b[0m\u001b[0mfin\u001b[0m\u001b[0;34m)\u001b[0m\u001b[0;34m:\u001b[0m\u001b[0;34m\u001b[0m\u001b[0;34m\u001b[0m\u001b[0m\n",
      "\u001b[0;31mFileNotFoundError\u001b[0m: [Errno 2] No such file or directory: '/project/biocomplexity/MeaslesProject/APCDdata/RX/UVA_RX\\\\ Claims\\\\ 2016_March_2022.txt'"
     ]
    }
   ],
   "source": [
    "NUM_OF_LINES=40000\n",
    "year=2016\n",
    "filename = '/project/biocomplexity/MeaslesProject/APCDdata/RX/UVA_RX Claims '+str(year)+'_March 2022.txt'\n",
    "i=1\n",
    "with open(filename, \"r\", encoding=\"ISO-8859-1\") as fin:\n",
    "    fout = open(\"/scratch/jhm3ab/antibiotic_bii/RX_data/UVA_RX_Claims_\"+str(year)+\"/UVA_RX_Claims_\"+str(year)+\"_March_2022_\"+str(i)+\".txt\",\"w\")\n",
    "    for j,line in enumerate(fin):\n",
    "        #print(line)\n",
    "        \n",
    "        #print(line[4:6])\n",
    "        m=line[4:6]\n",
    "        if m=='rr':\n",
    "            firstLine=line\n",
    "            fout.write(line)\n",
    "        if m!='rr':\n",
    "            if (int(m)==i):\n",
    "                fout.write(line)\n",
    "            if (int(m)==(i+1)):\n",
    "                fout.close()\n",
    "                i=i+1\n",
    "                print(i)\n",
    "                fout = open(\"/scratch/jhm3ab/antibiotic_bii/RX_data/UVA_RX_Claims_\"+str(year)+\"/UVA_RX_Claims_\"+str(year)+\"_March_2022_\"+str(i)+\".txt\",\"w\")\n",
    "                fout.write(firstLine)\n",
    "                fout.write(line)\n",
    "                \n",
    "\n",
    "\n",
    "\n",
    "    fout.close()"
   ]
  },
  {
   "cell_type": "code",
   "execution_count": 4,
   "metadata": {},
   "outputs": [
    {
     "name": "stderr",
     "output_type": "stream",
     "text": [
      "/apps/software/standard/compiler/gcc/9.2.0/jupyter_conda/2020.11-py3.8/lib/python3.8/site-packages/IPython/core/interactiveshell.py:3146: DtypeWarning: Columns (8) have mixed types.Specify dtype option on import or set low_memory=False.\n",
      "  has_raised = await self.run_ast_nodes(code_ast.body, cell_name,\n"
     ]
    },
    {
     "name": "stdout",
     "output_type": "stream",
     "text": [
      "          Incurred Date  Paid Date                      Claim ID Claim Status  \\\n",
      "0              20160201   20160201      AHI-VAC0007A-EVTWQZ28000         PAID   \n",
      "1              20160201   20160201       ALI-VAC0010-E0PBQYSXG00         PAID   \n",
      "2              20160201   20160201       ALI-VAC0010-E1ABQZ88S00         PAID   \n",
      "3              20160201   20160201       ALI-VAC0010-E5TWQYSM000         PAID   \n",
      "4              20160201   20160201       ALI-VAC0010-EJPBRS74S00         PAID   \n",
      "...                 ...        ...                           ...          ...   \n",
      "11938204       20160227   20160318      CMS-BCAR-CLM000027122420         PAID   \n",
      "11938205       20160227   20160318      CMS-BCAR-CLM000027122420         PAID   \n",
      "11938206       20160229   20190918         HPP-VAC0013-303971431         PAID   \n",
      "11938207       20160229   20201002  DVM-VAG1000-2016077701401401     REVERSED   \n",
      "11938208       20160229   20210409  DVM-VAG1000-2016079700180701     REVERSED   \n",
      "\n",
      "          MI Person Key    Payer LOB                     Payer Type  \\\n",
      "0            1016002457   COMMERCIAL           HMO - Commercial HMO   \n",
      "1            1003878903   COMMERCIAL           PPO - Commercial PPO   \n",
      "2            1002562546   COMMERCIAL           PPO - Commercial PPO   \n",
      "3            1007129047   COMMERCIAL           POS - Commercial POS   \n",
      "4            1003905658   COMMERCIAL           POS - Commercial POS   \n",
      "...                 ...          ...                            ...   \n",
      "11938204     1001831376     MEDICARE              MC - Medicare FFS   \n",
      "11938205     1001831376     MEDICARE              MC - Medicare FFS   \n",
      "11938206     1013435336  Unspecified                    Unspecified   \n",
      "11938207     1000710915     MEDICAID  MLI - Medicaid Low Income HMO   \n",
      "11938208     1004411365     MEDICAID  MLI - Medicaid Low Income HMO   \n",
      "\n",
      "         Primary Insurance Flag Member Zip Code DOS  \\\n",
      "0                             Y               23236   \n",
      "1                             Y               22902   \n",
      "2                             Y               23966   \n",
      "3                             Y               23229   \n",
      "4                             Y               22401   \n",
      "...                         ...                 ...   \n",
      "11938204                      Y               22033   \n",
      "11938205                      Y               22033   \n",
      "11938206                Unknown               Unkno   \n",
      "11938207                      N               23234   \n",
      "11938208                      N               20187   \n",
      "\n",
      "                   Member County DOS  ... Service Provider State  \\\n",
      "0                 041 - CHESTERFIELD  ...          VA - Virginia   \n",
      "1         540 - CHARLOTTESVILLE CITY  ...          VA - Virginia   \n",
      "2                147 - PRINCE EDWARD  ...          VA - Virginia   \n",
      "3                      087 - HENRICO  ...          VA - Virginia   \n",
      "4          630 - FREDERICKSBURG CITY  ...          VA - Virginia   \n",
      "...                              ...  ...                    ...   \n",
      "11938204               059 - FAIRFAX  ...    NC - North Carolina   \n",
      "11938205               059 - FAIRFAX  ...    NC - North Carolina   \n",
      "11938206               161 - ROANOKE  ...    NC - North Carolina   \n",
      "11938207          041 - CHESTERFIELD  ...          VA - Virginia   \n",
      "11938208              061 - FAUQUIER  ...          VA - Virginia   \n",
      "\n",
      "                                  Service Provider MSA  Attrib PCP Specialty  \\\n",
      "0                                         Richmond, VA               Unknown   \n",
      "1                                  Charlottesville, VA               Unknown   \n",
      "2                                     Non-MSA Area, VA               Unknown   \n",
      "3                                         Richmond, VA               Unknown   \n",
      "4         Washington-Arlington-Alexandria, DC-VA-MD-WV               Unknown   \n",
      "...                                                ...                   ...   \n",
      "11938204                                Burlington, NC               Unknown   \n",
      "11938205                                Burlington, NC               Unknown   \n",
      "11938206                     Greensboro-High Point, NC               Unknown   \n",
      "11938207                                  Richmond, VA               Unknown   \n",
      "11938208  Washington-Arlington-Alexandria, DC-VA-MD-WV               Unknown   \n",
      "\n",
      "         Attrib PCP ZIP Attrib PCP County Attrib PCP State Attrib PCP MSA  \\\n",
      "0               Unknown           Unknown          Unknown        Unknown   \n",
      "1               Unknown           Unknown          Unknown        Unknown   \n",
      "2               Unknown           Unknown          Unknown        Unknown   \n",
      "3               Unknown           Unknown          Unknown        Unknown   \n",
      "4               Unknown           Unknown          Unknown        Unknown   \n",
      "...                 ...               ...              ...            ...   \n",
      "11938204        Unknown           Unknown          Unknown        Unknown   \n",
      "11938205        Unknown           Unknown          Unknown        Unknown   \n",
      "11938206        Unknown           Unknown          Unknown        Unknown   \n",
      "11938207        Unknown           Unknown          Unknown        Unknown   \n",
      "11938208        Unknown           Unknown          Unknown        Unknown   \n",
      "\n",
      "         Total Allowed Total Utilization Total Paid  \n",
      "0               346.57                 1     267.45  \n",
      "1               127.24                 1      88.68  \n",
      "2                87.74                 1      61.15  \n",
      "3               150.14                 1     100.11  \n",
      "4                90.77                 1      60.53  \n",
      "...                ...               ...        ...  \n",
      "11938204          0.00                 0       0.00  \n",
      "11938205          0.00                 0       0.00  \n",
      "11938206          1.03                 1       1.04  \n",
      "11938207          0.00                -1       0.00  \n",
      "11938208          0.00                -1       0.00  \n",
      "\n",
      "[11938209 rows x 113 columns]\n"
     ]
    }
   ],
   "source": [
    "df=pd.read_csv(\"/project/biocomplexity/MeaslesProject/APCDdata/vhi.org/Medical_Claims/UVA_Medical_Claims_2016/UVA_Medical_Claims_2016_March_2022_2.txt\",   sep=\"|\")\n",
    "print(df)"
   ]
  },
  {
   "cell_type": "code",
   "execution_count": null,
   "metadata": {},
   "outputs": [],
   "source": []
  }
 ],
 "metadata": {
  "kernelspec": {
   "display_name": "Python 3",
   "language": "python",
   "name": "python3"
  },
  "language_info": {
   "codemirror_mode": {
    "name": "ipython",
    "version": 3
   },
   "file_extension": ".py",
   "mimetype": "text/x-python",
   "name": "python",
   "nbconvert_exporter": "python",
   "pygments_lexer": "ipython3",
   "version": "3.8.8"
  }
 },
 "nbformat": 4,
 "nbformat_minor": 4
}
