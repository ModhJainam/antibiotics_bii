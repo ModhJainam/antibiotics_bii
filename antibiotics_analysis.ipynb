{
 "cells": [
  {
   "cell_type": "code",
   "execution_count": 1,
   "metadata": {},
   "outputs": [],
   "source": [
    "import pandas as pd\n",
    "import numpy as np\n",
    "import json\n",
    "import os\n",
    "from pathlib import Path"
   ]
  },
  {
   "cell_type": "code",
   "execution_count": 2,
   "metadata": {},
   "outputs": [],
   "source": [
    "indir = \"/scratch/jhm3ab/antibiotic_bii/filtered_antibiotics\"\n",
    "filename = 'all_antibiotics.json'\n",
    "#for filename in os.listdir(indir):\n",
    "fin = os.path.join(indir, filename)\n",
    "f = open(fin, 'r')\n",
    "data = json.load(f)\n",
    "f.close()"
   ]
  },
  {
   "cell_type": "code",
   "execution_count": 3,
   "metadata": {},
   "outputs": [],
   "source": [
    "class_data = {}\n",
    "ndcdir = \"/scratch/jhm3ab/antibiotic_bii/antibiotic_class_ndc\"\n",
    "for classfile in os.listdir(ndcdir):\n",
    "    if classfile.endswith(\".txt\"):\n",
    "        cin = os.path.join(ndcdir, classfile)\n",
    "        f = open(cin, 'r')\n",
    "        drug_list = f.read().splitlines()\n",
    "        c = Path(classfile).stem\n",
    "        class_data[c] = []\n",
    "        member_zip = pd.DataFrame()\n",
    "        provider_zip = pd.DataFrame()\n",
    "        for time in data:\n",
    "            month_data = data[time]\n",
    "            member_month = pd.Series(dtype = 'int', name = time)\n",
    "            provider_month = pd.Series(dtype = 'int', name = time)\n",
    "            for drug in month_data:\n",
    "                if drug in drug_list:\n",
    "                    frame = pd.DataFrame.from_dict(month_data[drug])\n",
    "                    m_counts = frame['Member Zip Code DOS'].value_counts()\n",
    "                    p_counts = frame['Service Provider ZIP'].value_counts()\n",
    "                    if member_month.empty:\n",
    "                        member_month = m_counts\n",
    "                        member_month.rename(time, inplace = True)\n",
    "                    else:\n",
    "                        member_month.add(m_counts, fill_value=0)\n",
    "                    if provider_month.empty:\n",
    "                        provider_month = p_counts\n",
    "                        provider_month.rename(time, inplace = True)\n",
    "                    else:\n",
    "                        provider_month.add(p_counts, fill_value=0)\n",
    "            member_zip = pd.concat([member_zip, member_month], axis = 1).fillna(0)\n",
    "            provider_zip = pd.concat([provider_zip, provider_month], axis = 1).fillna(0)\n",
    "        class_data[c].append(member_zip.to_dict())\n",
    "        class_data[c].append(provider_zip.to_dict())"
   ]
  },
  {
   "cell_type": "code",
   "execution_count": 4,
   "metadata": {},
   "outputs": [],
   "source": [
    "with open(\"antibiotics_analysis/class_counts.json\", \"w\") as f:\n",
    "    json.dump(class_data, f)"
   ]
  },
  {
   "cell_type": "code",
   "execution_count": null,
   "metadata": {},
   "outputs": [],
   "source": []
  }
 ],
 "metadata": {
  "kernelspec": {
   "display_name": "Antibiotics_BII",
   "language": "python",
   "name": "antibiotics_bii"
  },
  "language_info": {
   "codemirror_mode": {
    "name": "ipython",
    "version": 3
   },
   "file_extension": ".py",
   "mimetype": "text/x-python",
   "name": "python",
   "nbconvert_exporter": "python",
   "pygments_lexer": "ipython3",
   "version": "3.8.8"
  }
 },
 "nbformat": 4,
 "nbformat_minor": 4
}
