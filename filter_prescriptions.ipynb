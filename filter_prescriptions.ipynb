{
 "cells": [
  {
   "cell_type": "code",
   "execution_count": 1,
   "metadata": {},
   "outputs": [],
   "source": [
    "import pandas as pd\n",
    "import numpy as np\n",
    "import json\n",
    "import os"
   ]
  },
  {
   "cell_type": "code",
   "execution_count": 2,
   "metadata": {},
   "outputs": [],
   "source": [
    "drugs = set()"
   ]
  },
  {
   "cell_type": "code",
   "execution_count": 6,
   "metadata": {},
   "outputs": [],
   "source": [
    "indir = \"/scratch/jhm3ab/antibiotic_bii/prescriptions_data/\"\n",
    "for yeardir in os.listdir(indir):\n",
    "    d = os.path.join(indir, yeardir)\n",
    "    for filename in os.listdir(d):\n",
    "        fin = os.path.join(d, filename)\n",
    "        f = open(fin, 'r')\n",
    "        new = json.load(f)\n",
    "        drugs.update(new.keys())\n",
    "        f.close()"
   ]
  },
  {
   "cell_type": "code",
   "execution_count": 7,
   "metadata": {},
   "outputs": [
    {
     "data": {
      "text/plain": [
       "104212"
      ]
     },
     "execution_count": 7,
     "metadata": {},
     "output_type": "execute_result"
    }
   ],
   "source": [
    "len(drugs)"
   ]
  },
  {
   "cell_type": "code",
   "execution_count": 11,
   "metadata": {},
   "outputs": [],
   "source": [
    "f = open('alldrugsndc.txt', 'w')\n",
    "for ndc in drugs:\n",
    "    f.write(ndc + '\\n')"
   ]
  },
  {
   "cell_type": "code",
   "execution_count": 12,
   "metadata": {},
   "outputs": [],
   "source": [
    "ndcfile = \"/scratch/jhm3ab/antibiotic_bii/ndclist/product.txt\"\n",
    "ndcdata = pd.read_csv(ndcfile, sep = '\\t', encoding='unicode_escape')"
   ]
  },
  {
   "cell_type": "code",
   "execution_count": 13,
   "metadata": {},
   "outputs": [],
   "source": [
    "classes = ['Aminoglycoside', \n",
    "           'Penicillin',\n",
    " 'Polymyxin',\n",
    " 'Lipopeptide',\n",
    " 'Glycopeptide',\n",
    " 'Carbapenem',\n",
    " 'Cephalosporin',\n",
    " 'Monobactam',\n",
    " 'Trimethoprim',\n",
    " 'Chloramphenicol',\n",
    " 'Macrolide',\n",
    " 'Oxazolidinone',\n",
    " 'Quinolone',\n",
    " 'Tetracycline',\n",
    " 'Glycylcycline']"
   ]
  },
  {
   "cell_type": "code",
   "execution_count": 14,
   "metadata": {},
   "outputs": [
    {
     "data": {
      "text/plain": [
       "15"
      ]
     },
     "execution_count": 14,
     "metadata": {},
     "output_type": "execute_result"
    }
   ],
   "source": [
    "len(classes)"
   ]
  },
  {
   "cell_type": "code",
   "execution_count": 15,
   "metadata": {},
   "outputs": [],
   "source": [
    "pharm=ndcdata['PHARM_CLASSES'].unique().tolist()"
   ]
  },
  {
   "cell_type": "code",
   "execution_count": 16,
   "metadata": {},
   "outputs": [],
   "source": [
    "search = []\n",
    "failed = []\n",
    "for c in classes:\n",
    "    found = False\n",
    "    for p in pharm:\n",
    "        p = str(p)\n",
    "        if c.lower() in p.lower():\n",
    "            search.append(p)\n",
    "            found = True\n",
    "    if not found:\n",
    "        failed.append(c)"
   ]
  },
  {
   "cell_type": "code",
   "execution_count": 17,
   "metadata": {},
   "outputs": [
    {
     "data": {
      "text/plain": [
       "['Trimethoprim', 'Chloramphenicol', 'Glycylcycline']"
      ]
     },
     "execution_count": 17,
     "metadata": {},
     "output_type": "execute_result"
    }
   ],
   "source": [
    "failed"
   ]
  },
  {
   "cell_type": "code",
   "execution_count": 18,
   "metadata": {},
   "outputs": [],
   "source": [
    "filtered = ndcdata.loc[ndcdata['PHARM_CLASSES'].isin(search)]\n",
    "ndcfilter = filtered['PRODUCTNDC'].unique().tolist()\n",
    "ndc = [n.replace('-','') for n in ndcfilter]"
   ]
  },
  {
   "cell_type": "code",
   "execution_count": 20,
   "metadata": {},
   "outputs": [],
   "source": [
    "found = []\n",
    "for key in drugs:\n",
    "    for n in ndc:\n",
    "        if n in key:\n",
    "            found.append(key)"
   ]
  },
  {
   "cell_type": "code",
   "execution_count": 22,
   "metadata": {},
   "outputs": [
    {
     "data": {
      "text/plain": [
       "1175"
      ]
     },
     "execution_count": 22,
     "metadata": {},
     "output_type": "execute_result"
    }
   ],
   "source": [
    "len(found)"
   ]
  },
  {
   "cell_type": "code",
   "execution_count": 24,
   "metadata": {},
   "outputs": [],
   "source": [
    "f = open('antibiotics_ndc.txt', 'w')\n",
    "for ndc in found:\n",
    "    f.write(ndc + '\\n')"
   ]
  },
  {
   "cell_type": "code",
   "execution_count": 26,
   "metadata": {},
   "outputs": [],
   "source": [
    "data = {}"
   ]
  },
  {
   "cell_type": "code",
   "execution_count": 27,
   "metadata": {},
   "outputs": [],
   "source": [
    "indir = \"/scratch/jhm3ab/antibiotic_bii/prescriptions_data/\"\n",
    "for yeardir in os.listdir(indir):\n",
    "    d = os.path.join(indir, yeardir)\n",
    "    for filename in os.listdir(d):\n",
    "        fin = os.path.join(d, filename)\n",
    "        f = open(fin, 'r')\n",
    "        new = json.load(f)\n",
    "        for key in new:\n",
    "            if key in found:\n",
    "                frame = pd.DataFrame.from_dict(new[key])\n",
    "                if key in data:\n",
    "                    data[key] = pd.concat([data[key], frame], ignore_index = True)\n",
    "                else:\n",
    "                    data[key] = frame\n",
    "        f.close()"
   ]
  },
  {
   "cell_type": "code",
   "execution_count": 33,
   "metadata": {},
   "outputs": [],
   "source": [
    "for key in data:\n",
    "    data[key] = data[key].to_dict()\n",
    "with open('filtered_antibiotics/all_antibiotics', \"w\") as f:\n",
    "    json.dump(data, f)"
   ]
  },
  {
   "cell_type": "code",
   "execution_count": null,
   "metadata": {},
   "outputs": [],
   "source": [
    "for c in classes:\n",
    "    classdata = {}\n",
    "    search = []\n",
    "    for p in pharm:\n",
    "        p = str(p)\n",
    "        if c.lower() in p.lower():\n",
    "            search.append(p)\n",
    "    filtered = ndcdata.loc[ndcdata['PHARM_CLASSES'].isin(search)]\n",
    "    ndcfilter = filtered['PRODUCTNDC'].unique().tolist()\n",
    "    ndc = [n.replace('-','') for n in ndcfilter]\n",
    "    for key in data:\n",
    "        for n in ndc:\n",
    "            if n in key:\n",
    "                classdata[key] = data[key]\n",
    "    if classdata:\n",
    "        with open('filtered_antibiotics/' + c + '.json', \"w\") as f:\n",
    "            json.dump(classdata, f)"
   ]
  },
  {
   "cell_type": "code",
   "execution_count": null,
   "metadata": {},
   "outputs": [],
   "source": []
  }
 ],
 "metadata": {
  "kernelspec": {
   "display_name": "Antibiotics_BII",
   "language": "python",
   "name": "antibiotics_bii"
  },
  "language_info": {
   "codemirror_mode": {
    "name": "ipython",
    "version": 3
   },
   "file_extension": ".py",
   "mimetype": "text/x-python",
   "name": "python",
   "nbconvert_exporter": "python",
   "pygments_lexer": "ipython3",
   "version": "3.8.8"
  }
 },
 "nbformat": 4,
 "nbformat_minor": 4
}
